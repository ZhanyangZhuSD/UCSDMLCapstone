{
 "cells": [
  {
   "cell_type": "markdown",
   "id": "2a6d1616-ba48-4258-89ba-8601d05d6ed7",
   "metadata": {},
   "source": [
    "# Predict the effect of Genetic Variants to enable Personalized Medicine\n",
    "## This is a UCSD ML Bootcamp Capstone Project \n",
    "#### by Zhanyang Zhu Zhanyang.Zhu@Gmail.com\n",
    "####    5/2022-9/2022\n",
    "Data is taken from [Kaggle Personalized Medicine: Redefining Cancer Treatment](https://www.kaggle.com/competitions/msk-redefining-cancer-treatment/data)\n",
    "\n",
    "In this competition you will develop algorithms to classify genetic mutations based on clinical evidence (text).\n",
    "\n",
    "There are nine different classes a genetic mutation can be classified on.\n",
    "\n",
    "This is not a trivial task since interpreting clinical evidence is very challenging even for human specialists. Therefore, modeling the clinical evidence (text) will be critical for the success of your approach.\n",
    "\n",
    "Both, training and test, data sets are provided via two different files. One (training/test_variants) provides the information about the genetic mutations, whereas the other (training/test_text) provides the clinical evidence (text) that our human experts used to classify the genetic mutations. Both are linked via the ID field.\n",
    "\n",
    "Therefore the genetic mutation (row) with ID=15 in the file training_variants, was classified using the clinical evidence (text) from the row with ID=15 in the file training_text\n",
    "\n",
    "Finally, to make it more exciting!! Some of the test data is machine-generated to prevent hand labeling. You will submit all the results of your classification algorithm, and we will ignore the machine-generated samples. \n",
    "\n",
    "File descriptions\n",
    "training_variants - a comma separated file containing the description of the genetic mutations used for training. Fields are ID (the id of the row used to link the mutation to the clinical evidence), Gene (the gene where this genetic mutation is located), Variation (the aminoacid change for this mutations), Class (1-9 the class this genetic mutation has been classified on)\n",
    "training_text - a double pipe (||) delimited file that contains the clinical evidence (text) used to classify genetic mutations. Fields are ID (the id of the row used to link the clinical evidence to the genetic mutation), Text (the clinical evidence used to classify the genetic mutation)\n",
    "test_variants - a comma separated file containing the description of the genetic mutations used for training. Fields are ID (the id of the row used to link the mutation to the clinical evidence), Gene (the gene where this genetic mutation is located), Variation (the aminoacid change for this mutations)\n",
    "test_text - a double pipe (||) delimited file that contains the clinical evidence (text) used to classify genetic mutations. Fields are ID (the id of the row used to link the clinical evidence to the genetic mutation), Text (the clinical evidence used to classify the genetic mutation)\n",
    "submissionSample - a sample submission file in the correct format"
   ]
  },
  {
   "cell_type": "markdown",
   "id": "180285eb-84d5-4096-8a09-93021b977cf0",
   "metadata": {},
   "source": [
    "# Set up "
   ]
  },
  {
   "cell_type": "code",
   "execution_count": 2,
   "id": "1bb720e1-285c-46f2-983d-41b06b5828e9",
   "metadata": {},
   "outputs": [],
   "source": [
    "import numpy as np\n",
    "import pandas as pd\n",
    "import matplotlib.pyplot as plt\n",
    "%matplotlib inline\n",
    "\n",
    "pd.options.display.max_rows    = 99\n",
    "pd.options.display.max_columns = 99\n",
    "pd.options.display.width       = 80"
   ]
  },
  {
   "cell_type": "code",
   "execution_count": 3,
   "id": "6d8186be-bce1-431e-a949-8f9a6dfc1422",
   "metadata": {},
   "outputs": [
    {
     "data": {
      "text/plain": [
       "'1.3.4'"
      ]
     },
     "execution_count": 3,
     "metadata": {},
     "output_type": "execute_result"
    }
   ],
   "source": [
    "pd.__version__"
   ]
  },
  {
   "cell_type": "code",
   "execution_count": 52,
   "id": "492a4912-3eb5-4acb-82fc-57162402b1b5",
   "metadata": {},
   "outputs": [],
   "source": [
    "# read in traning variants:\n",
    "tn_var = pd.read_csv(\"training_variants\", index_col='ID')"
   ]
  },
  {
   "cell_type": "code",
   "execution_count": 53,
   "id": "d197c358-d97f-47b3-86d1-16d427448298",
   "metadata": {},
   "outputs": [
    {
     "data": {
      "text/html": [
       "<div>\n",
       "<style scoped>\n",
       "    .dataframe tbody tr th:only-of-type {\n",
       "        vertical-align: middle;\n",
       "    }\n",
       "\n",
       "    .dataframe tbody tr th {\n",
       "        vertical-align: top;\n",
       "    }\n",
       "\n",
       "    .dataframe thead th {\n",
       "        text-align: right;\n",
       "    }\n",
       "</style>\n",
       "<table border=\"1\" class=\"dataframe\">\n",
       "  <thead>\n",
       "    <tr style=\"text-align: right;\">\n",
       "      <th></th>\n",
       "      <th>Gene</th>\n",
       "      <th>Variation</th>\n",
       "      <th>Class</th>\n",
       "    </tr>\n",
       "    <tr>\n",
       "      <th>ID</th>\n",
       "      <th></th>\n",
       "      <th></th>\n",
       "      <th></th>\n",
       "    </tr>\n",
       "  </thead>\n",
       "  <tbody>\n",
       "    <tr>\n",
       "      <th>0</th>\n",
       "      <td>FAM58A</td>\n",
       "      <td>Truncating Mutations</td>\n",
       "      <td>1</td>\n",
       "    </tr>\n",
       "    <tr>\n",
       "      <th>1</th>\n",
       "      <td>CBL</td>\n",
       "      <td>W802*</td>\n",
       "      <td>2</td>\n",
       "    </tr>\n",
       "    <tr>\n",
       "      <th>2</th>\n",
       "      <td>CBL</td>\n",
       "      <td>Q249E</td>\n",
       "      <td>2</td>\n",
       "    </tr>\n",
       "    <tr>\n",
       "      <th>3</th>\n",
       "      <td>CBL</td>\n",
       "      <td>N454D</td>\n",
       "      <td>3</td>\n",
       "    </tr>\n",
       "    <tr>\n",
       "      <th>4</th>\n",
       "      <td>CBL</td>\n",
       "      <td>L399V</td>\n",
       "      <td>4</td>\n",
       "    </tr>\n",
       "  </tbody>\n",
       "</table>\n",
       "</div>"
      ],
      "text/plain": [
       "      Gene             Variation  Class\n",
       "ID                                     \n",
       "0   FAM58A  Truncating Mutations      1\n",
       "1      CBL                 W802*      2\n",
       "2      CBL                 Q249E      2\n",
       "3      CBL                 N454D      3\n",
       "4      CBL                 L399V      4"
      ]
     },
     "execution_count": 53,
     "metadata": {},
     "output_type": "execute_result"
    }
   ],
   "source": [
    "tn_var.head()"
   ]
  },
  {
   "cell_type": "code",
   "execution_count": 71,
   "id": "d5060ac0-11f5-453b-83f7-83d0fbb9ee6b",
   "metadata": {},
   "outputs": [
    {
     "data": {
      "text/plain": [
       "<bound method DataFrame.info of         Gene             Variation  Class\n",
       "ID                                       \n",
       "0     FAM58A  Truncating Mutations      1\n",
       "1        CBL                 W802*      2\n",
       "2        CBL                 Q249E      2\n",
       "3        CBL                 N454D      3\n",
       "4        CBL                 L399V      4\n",
       "...      ...                   ...    ...\n",
       "3316   RUNX1                 D171N      4\n",
       "3317   RUNX1                 A122*      1\n",
       "3318   RUNX1               Fusions      1\n",
       "3319   RUNX1                  R80C      4\n",
       "3320   RUNX1                  K83E      4\n",
       "\n",
       "[3321 rows x 3 columns]>"
      ]
     },
     "execution_count": 71,
     "metadata": {},
     "output_type": "execute_result"
    }
   ],
   "source": [
    "# read in training text data:\n",
    "tn_var.info"
   ]
  },
  {
   "cell_type": "code",
   "execution_count": 91,
   "id": "1f346f05-09c1-44a6-87bc-055401cb263c",
   "metadata": {},
   "outputs": [
    {
     "data": {
      "text/plain": [
       "7    953\n",
       "4    686\n",
       "1    568\n",
       "2    452\n",
       "6    275\n",
       "5    242\n",
       "3     89\n",
       "9     37\n",
       "8     19\n",
       "Name: Class, dtype: int64"
      ]
     },
     "execution_count": 91,
     "metadata": {},
     "output_type": "execute_result"
    }
   ],
   "source": [
    "tn_var.Class.value_counts()"
   ]
  },
  {
   "cell_type": "code",
   "execution_count": 67,
   "id": "cebd349a-e929-4f7e-85c4-670f7cfd4023",
   "metadata": {},
   "outputs": [
    {
     "name": "stderr",
     "output_type": "stream",
     "text": [
      "C:\\Users\\ZhanyangZhu\\anaconda3\\lib\\site-packages\\pandas\\util\\_decorators.py:311: ParserWarning: Falling back to the 'python' engine because the 'c' engine does not support regex separators (separators > 1 char and different from '\\s+' are interpreted as regex); you can avoid this warning by specifying engine='python'.\n",
      "  return func(*args, **kwargs)\n"
     ]
    }
   ],
   "source": [
    "# read in training text data:\n",
    "tn_text = pd.read_csv(\"training_text\", sep='\\|\\|', skiprows=1, header=None, names=['ID', 'Text'], index_col='ID')"
   ]
  },
  {
   "cell_type": "code",
   "execution_count": 68,
   "id": "8cac5546-fae7-40bf-8de4-66df63a13757",
   "metadata": {},
   "outputs": [
    {
     "data": {
      "text/html": [
       "<div>\n",
       "<style scoped>\n",
       "    .dataframe tbody tr th:only-of-type {\n",
       "        vertical-align: middle;\n",
       "    }\n",
       "\n",
       "    .dataframe tbody tr th {\n",
       "        vertical-align: top;\n",
       "    }\n",
       "\n",
       "    .dataframe thead th {\n",
       "        text-align: right;\n",
       "    }\n",
       "</style>\n",
       "<table border=\"1\" class=\"dataframe\">\n",
       "  <thead>\n",
       "    <tr style=\"text-align: right;\">\n",
       "      <th></th>\n",
       "      <th>Text</th>\n",
       "    </tr>\n",
       "    <tr>\n",
       "      <th>ID</th>\n",
       "      <th></th>\n",
       "    </tr>\n",
       "  </thead>\n",
       "  <tbody>\n",
       "    <tr>\n",
       "      <th>0</th>\n",
       "      <td>Cyclin-dependent kinases (CDKs) regulate a var...</td>\n",
       "    </tr>\n",
       "    <tr>\n",
       "      <th>1</th>\n",
       "      <td>Abstract Background  Non-small cell lung canc...</td>\n",
       "    </tr>\n",
       "    <tr>\n",
       "      <th>2</th>\n",
       "      <td>Abstract Background  Non-small cell lung canc...</td>\n",
       "    </tr>\n",
       "    <tr>\n",
       "      <th>3</th>\n",
       "      <td>Recent evidence has demonstrated that acquired...</td>\n",
       "    </tr>\n",
       "    <tr>\n",
       "      <th>4</th>\n",
       "      <td>Oncogenic mutations in the monomeric Casitas B...</td>\n",
       "    </tr>\n",
       "  </tbody>\n",
       "</table>\n",
       "</div>"
      ],
      "text/plain": [
       "                                                 Text\n",
       "ID                                                   \n",
       "0   Cyclin-dependent kinases (CDKs) regulate a var...\n",
       "1    Abstract Background  Non-small cell lung canc...\n",
       "2    Abstract Background  Non-small cell lung canc...\n",
       "3   Recent evidence has demonstrated that acquired...\n",
       "4   Oncogenic mutations in the monomeric Casitas B..."
      ]
     },
     "execution_count": 68,
     "metadata": {},
     "output_type": "execute_result"
    }
   ],
   "source": [
    "tn_text.head()"
   ]
  },
  {
   "cell_type": "code",
   "execution_count": 72,
   "id": "54e0280f-3ffd-4a2e-b791-85bdf38fb2e3",
   "metadata": {},
   "outputs": [
    {
     "data": {
      "text/plain": [
       "<bound method DataFrame.info of                                                    Text\n",
       "ID                                                     \n",
       "0     Cyclin-dependent kinases (CDKs) regulate a var...\n",
       "1      Abstract Background  Non-small cell lung canc...\n",
       "2      Abstract Background  Non-small cell lung canc...\n",
       "3     Recent evidence has demonstrated that acquired...\n",
       "4     Oncogenic mutations in the monomeric Casitas B...\n",
       "...                                                 ...\n",
       "3316  Introduction  Myelodysplastic syndromes (MDS) ...\n",
       "3317  Introduction  Myelodysplastic syndromes (MDS) ...\n",
       "3318  The Runt-related transcription factor 1 gene (...\n",
       "3319  The RUNX1/AML1 gene is the most frequent targe...\n",
       "3320  The most frequent mutations associated with le...\n",
       "\n",
       "[3321 rows x 1 columns]>"
      ]
     },
     "execution_count": 72,
     "metadata": {},
     "output_type": "execute_result"
    }
   ],
   "source": [
    "tn_text.info"
   ]
  },
  {
   "cell_type": "code",
   "execution_count": 83,
   "id": "33fe6b53-04d4-4a7c-b945-780f5fb0a3dc",
   "metadata": {},
   "outputs": [
    {
     "data": {
      "text/plain": [
       "Gene         RUNX1\n",
       "Variation     K83E\n",
       "Class            4\n",
       "Name: 3320, dtype: object"
      ]
     },
     "execution_count": 83,
     "metadata": {},
     "output_type": "execute_result"
    }
   ],
   "source": [
    "tn_var.iloc[3320]"
   ]
  },
  {
   "cell_type": "code",
   "execution_count": 99,
   "id": "dc26b8f8-5338-453b-9f65-cb7814831715",
   "metadata": {},
   "outputs": [
    {
     "data": {
      "text/plain": [
       "\"The most frequent mutations associated with leukemia are recurrent somatic chromosomal translocations or inversions, many of which involve the polyomavirus enhancer-binding protein or core-binding factor transcriptional regulation complex (PEBP2/CBF). Several translocations involve the α subunit of this complex, the RUNX1 gene (also called AML1, CBFα2, or PEBP2αB) on chromosome 21q22.1 (t(8;21), t(3;21), and t(12;21)). Additionally, the β subunit of the complex, PEBP2β also called CBFβ, is disrupted in inv(16)(p13;q22).1 An abundance of evidence points to the existence of genes that predispose to hematologic malignancies. However, large multiple-generation families with hematologic malignancies alone are rare.2 Only 2 loci for familial hematologic malignancies have been identified to date, 1 on chromosome 21q22.13 and the other on 16q22.4 5 These loci contain RUNX1 andPEBP2β/CBFβ, respectively.Studies of families that demonstrate single-gene inheritance for leukemia predisposition should help to identify the genes and mechanisms involved in the first steps of leukemia development. The autosomal dominant familial platelet disorder (FPD)/AML (acute myelogenous leukemia; Online Mendelian Inheritance in Man no. 601399) is a good model to validate this hypothesis because, in addition to developing thrombocytopenia, patients show a propensity for progression to myelodysplasia and acute myeloid leukemia.6-9 Affected individuals within the same family may present with variable clinical severity at varying ages. FPD/AML was linked to 21q22.1-22.2,3 9 including the region that contains RUNX1, and germline RUNX1 mutations were subsequently identified in 6 pedigrees.10Heterozygous missense mutations and biallelic nonsense or frameshift mutations in RUNX1 were also identified in sporadic leukemias,11 and other point mutations have been characterized in patients with M0-AML and various myeloid malignancies,12 including some with acquired trisomy and tetrasomy of chromosome 21.13 While missense mutations abolish the DNA binding and transactivation activities of RUNX1, they do not affect heterodimerization with PEBP2β/CBFβ. In addition, these mutant proteins inhibit wild-type RUNX1 in cotransfection studies.11 12The evolutionarily conserved 128 amino acid Runt domain, present in most of RUNX1 isoforms, is involved in DNA binding and heterodimerization with PEBP2β/CBFβ.14 15Heterodimerization of RUNX1 with PEBP2β/CBFβ promotes DNA binding by stabilizing the interaction of the complex with the DNA.16 17 All RUNX1 point mutations described in FPD/AML patients10 and most RUNX1 point mutations in patients with sporadic leukemias11-13 are within the Runt domain and alter amino acids essential for DNA binding and heterodimerization.18 19 Longer RUNX1 proteins also contain a transactivation domain and domains involved in self-regulation, protein-protein interaction, and cellular localization.20 RUNX1 regulates the activity of several important hematopoietic genes, such as macrophage colony-stimulating factor (M-CSF) receptor,21 T-cell receptor α and β,22 granulocyte-macrophage (GM)–CSF,23myeloperoxidase,24 and neutrophil elastase,25by binding to a core sequence (TGT/cGGT) found in their promoters or enhancers.It has been proposed that haploinsufficiency for RUNX1 is responsible for FPD/AML.10 However, hyperactivating, inhibitory, and loss-of-function RUNX1 point mutations have all been reported in sporadic leukemia.11 This diversity in the mechanisms of pathogenesis of sporadic AML RUNX1 mutations suggested that FPD/AML RUNX1 mutations warranted further functional studies. Here we describe 3 new RUNX1 mutations in FPD/AML and potential mechanisms involved in the pathogenesis of the disease based on in vitro studies of 7 RUNX1 FPD/AML mutations.Materials and methodsSample collection and genomic DNA isolationOur FPD/AML pedigrees are shown in Figure1. Pedigree 1 has been extensively described.7 Fourteen members of the family have a hemorrhagic diathesis characterized by a long bleeding time, abnormal platelet aggregation, and decreased numbers of platelet-dense bodies. Among the affected individuals, there were 3 documented cases of myeloblastic leukemia, 2 documented cases of myelomonoblastic leukemia, and 3 cases of leukemia by history.Fig. 1.Download figureOpen in new tabDownload powerpointFig. 1. The FPD/AML pedigrees unique to this study.All 3 pedigrees show linkage to FPD/AML locus (21q22.1-22.2). Half-filled symbols represent individuals who had a bleeding disorder and, where studied, a platelet defect as well, and completely filled symbols represent affected individuals who developed leukemia.Pedigree 2 (previously unreported) has 8 affected individuals from 4 generations with a clinical history of prolonged bleeding. Constitutional thrombocytopenia was found in 5 members, 3 of whom had extensive platelet evaluations documenting aspirinlike aggregation defects and dense granule abnormality demonstrable by electron microscopic morphology and quinacrine fluorescence. Three individuals developed AML, and a fourth was said to have died of “pernicious anemia.”Pedigree 3 consists of 15 affected individuals from 4 generations of a family with a bleeding disorder characterized by impaired platelet aggregation associated with decreased numbers and contents of both platelet-dense and α granules26 27 as well as a unique platelet phospholipid defect and decreased α-2 adrenergic receptors.28 29 The platelet counts in this family are at or slightly below the lower limit of normal.26 27 Two members of the family developed AML, and another was reported to have died of leukemia.29Blood samples were obtained from healthy and affected individuals after obtaining informed consent and in accordance with institutional guidelines for human subjects. DNA was isolated from blood leukocytes using standard protocols.Linkage analysisGenotype information was generated with polymerase chain reaction (PCR) amplification of chromosome 21 microsatellite markers from the Genome Database (http://www.gdb.org). Linkage analysis was as previously described.4 5 At least 7 microsatellite repeat polymorphisms in the FPD/AML critical region of chromosome 21q22.1\\u20093 were genotyped in each family.Mutation analysesAll 9 exons of RUNX1 were amplified from genomic DNA using primers designed to the flanking region of each exon. Single-strand conformational polymorphism analysis was performed on PCR fragments of less than 400 base pairs using a Genephor apparatus and the GeneGel 12.5 kit (Amersham Pharmacia Biotech, Freiburg, Germany). Exons showing conformational changes were directly sequenced in both directions using BigDye terminator cycle sequencing (Applied Biosystems, Foster City, CA) and analyzed on an ABI377 sequencer.RT-PCRFirst-strand complementary DNA (cDNA) was synthesized from patient (individuals IV:2 and V:2, pedigree 2) and control RNA using Superscript II reverse transcriptase. PCR was performed using primers AML1RTF3 (Figure 2D, primer C, 5′-CTGCTCCGTGCTGCCTACGCACTG-3′) in exon 3 of AML1b and AMLRTR1 (5′-CGCAGCTGCTCCAGTTCACTGAGC-3′) in exon 6 as reverse primer on these double-stranded cDNAs, cloned into a TA vector, and sequenced. A cryptic splice site was observed in one clone. Primers covering the cryptic splice junction of exon 4 and 5 (F2AMLmF4, Figure 2D, primer A, 5′-TAATGACCTCAGGGAAAAGCTTC-3′) and within the nucleotides of exon 4 excluded from the mutant transcript (F2AMLF1, Figure 2D, primer B, 5′-TGTCGGTCGAAGTGGAAGAGG-3′) were designed and used with AML1RTR1 to amplify a PCR product on patients' cDNA; no mutant transcript was observed in control cDNA.Fig. 2.Download figureOpen in new tabDownload powerpointFig. 2. Mutation analysis in FPD/AML pedigrees.Electropherograms from affected and control individuals showing the A>G substitution leading to the K83E missense mutation in pedigree 1 (A), the C>A substitution resulting in a nonsense mutation Y260X in pedigree 3 (B), and the deletion of an A at the +3 position of the splice donor site of intron 4 in pedigree 2 (IVS4\\u2009+\\u20093delA, C). Arrows indicate the point of the mutations. (D) Schematic representation of the cryptic splice site within exon 4 used in the mutated transcript in pedigree 2 and the RT-PCRs used to analyze the splicing. A, B, and C represent forward primers used in the RT-PCR experiment. Primer A is specific to the mutated form, and primer B is specific to the wild-type form. Primer C was used as control. The same reverse primer was used in each reaction. The 23 nucleotides of exon 4 excluded from the mutant transcript are indicated by the black box. (E) RT-PCR on patient and control RNA as described in panel D. The primer specific to the mutated form does not show any amplification on control RNA. (F) Sequence analysis of the mutant exon 4–exon 5 junction.Electrophoretic mobility shift assayAmino acids 24 to 189 of RUNX1, including the Runt domain, were expressed in Escherichia coli, purified, and subjected to electrophoretic mobility shift assay (EMSA) essentially as described previously.11 The wild-type expression plasmid was previously described,11 and mutant RUNX1 plasmids were obtained by site-directed mutagenesis on wild-type pQE9-RUNX1 using Strategene's “quick change” method according to the manufacturer's instruction manual (Stratagene, Amsterdam, The Netherlands). For K90fsX101 an alternative vector, pQE13, was used instead to express it in fusion with a more bulky N-terminal appendage containing hexahistidines and dihydrofolate reductase. Mutant constructs were confirmed by sequencing.Affinity assay of RUNX1-PEBP2β/CBFβ associationThe heterodimerization activity of RUNX1 mutants impaired in DNA binding was assayed by MagExtractor kit (TOYOBO, Osaka, Japan). Briefly, the hexahistidine-tagged RUNX1 fragment (1 μg) was incubated with tagless PEBP2β/CBFβ (1 μg) and mixed with nickel-coated magnetic beads. The mixture was successively washed with buffers containing 30 mM imidazole and eluted by the buffer supplied by the manufacturer. Proteins in each fraction were analyzed as previously described.11Subcellular localizationFor functional studies of mutated RUNX1 proteins, the wild-type RUNX1 sequence (1-453) was inserted into the pEF-BOS mammalian expression plasmid. Construction of RUNX1 mutants was carried out using the megaprimers method,30 and the resultant plasmids were transfected into NIH3T3 or REF52 (H58N, K83N, R177Q, and R177X only) cells using a nonliposomal transfection reagent FuGENE6 (Boehringer, Mannheim, Germany). Immunofluorescence labeling of RUNX1 and PEBP2βCBFβ and microscopy were as previously described.11 For each transfection 50 cells were visualized.Transactivation assaysThe luciferase reporter plasmid (pM-CSF-R-luc) and the effector plasmid (pEF-AML1), containing the 453 amino acid isoform of RUNX1 with the mutations to be studied, were transfected at a fixed ratio (0.5 and 0.8 μg per assay, respectively) into U937, HL60, and Jurkat cells. Cell extracts were prepared 48 hours after transfection and assayed essentially as described.11 To study the inhibitory effect of mutant RUNX1 proteins on wild-type RUNX1 reporter gene activation, 0.5 μg pM-CSF-R-luc and 0.1 to 0.8 μg pEF constructs expressing either RUNX1 with or without mutations or PEBP2β-MYH11 were cotransfected into U937, HL60, and Jurkat cells. The total amount of DNA transfected was kept constant (1.3 μg) by supplementing appropriate amounts of the backbone pEF plasmid, thereby avoiding potential artifacts due to unbalanced DNA dosages.Partial rescue from repression was obtained by transfecting varying doses of PEBP2βCBFβ with a repressive dose of wild-type and mutant proteins.ResultsLinkage and mutation analyses of the 3 new pedigreesEach of the 3 families demonstrated features typical of FPD/AML. A candidate region genetic linkage analysis provided maximum 2-point log odds ratio scores of 3.14, 2.15, and 2.43 (θ\\u2009=\\u20090) with markers D21S1413 in pedigree 1, IFNAR in pedigree 2, and D21S65 in pedigree 3. Extended haplotype analysis of each family indicated an approximate 3 megabase common nonrecombinant interval on human chromosome 21q22.1 containing RUNX1 in affected individuals.Pedigree 1 showed an A>G substitution in exon 3 resulting in a missense mutation, K83E (Figure 2A). The mutation segregates with the disorder in the family and was absent in 188 unrelated control chromosomes. Pedigree 2 showed a one-base deletion in the splice donor site of intron 4, IVS4\\u2009+\\u20093delA (Figure 2C). The mutation segregates with the disorder in the family and was absent in 184 unrelated control chromosomes. Reverse transcriptase (RT)–PCR on RNA from affected individuals showed the use of a cryptic donor splice site, not used in control RNA, 23 nucleotides upstream of the normal splice site (Figure 2D-F). The novel transcript generated by the use of the cryptic splice site results in a frameshift after amino acid 135, addition of 41 unrelated residues, and termination at codon 177 (R135fsX177). Pedigree 3 showed a C>A substitution in exon 7B resulting in a nonsense mutation, Y260X (Figure 2B). The mutation segregated with the disease in all family members tested.Effects of RUNX1 FPD/AML mutations on DNA binding and heterodimerization activities of the Runt domainWe examined the function of the Runt domain for 2 new (K83E and R135fsX177; SWISS-PROT Q01196) and 5 described (R139Q, R174Q, K90fsX101, R174X, R177X)10 FPD/AML point mutations. On EMSA analyses, R139Q, R174X, and R177X alone showed barely detectable DNA binding but produced a supershift band of increased intensity in the presence of PEBP2β/CBFβ, indicating that heterodimerization of these mutants with PEBP2β/CBFβ still occurs (Figure3A). K83E, R135fsX177, R174Q, and K90fsX101 showed no detectable DNA binding in the presence or absence of PEBPβ/CBFβ. An affinity assay of these mutants for heterodimerization with PEBP2β/CBFβ revealed that both missense mutants retained the ability to heterodimerize whereas both frameshift mutants did not (Figure 3B).Fig. 3.Download figureOpen in new tabDownload powerpointFig. 3. Alterations in the DNA binding and heterodimerization activities of the Runt domain of FPD/AML RUNX1 mutations.(A) Partial RUNX1 proteins (as indicated) were subjected to EMSA in the presence (+) and absence (−) of PEBP2β/CBFβ. WT indicates wild-type RUNX1. The position of the RUNX1 and RUNX1/CBFβ complexes with the DNA are indicated. (B) Affinity assay of the indicated partial RUNX1 proteins with PEBP2β/CBFβ. M indicates molecular weight marker as indicated both to the left and right; β, PEBP2β/CBFβ; A, input RUNX1 protein; W, unbound proteins in washed fractions; E, bound proteins eluted at 250 mM imidazole. The bands marked with arrows indicate the β subunits associated with RUNX1 proteins.Subcellular localization of the FPD/AML RUNX1 mutants and colocalization with PEBP2β/CBFβIn RUNX1 a nuclear localization signal (NLS) is present at amino acids 167 to 183 at the end of the Runt domain. RUNX1 wild-type protein is localized in the nucleus with a diffuse pattern and is excluded from the nucleoli (Figure 4A). Transfection of mutant full-length cDNAs into NIH3T3 cells and immunostaining the expressed RUNX1 proteins revealed that the frameshift (R135fsX177 and K90fsX101, no NLS) and nonsense (R174X and R177X, half of the NLS is missing) mutants are localized almost exclusively in the cytoplasm. Consistent with the importance of basic amino acids in the NLS, R174Q and R177Q (a sporadic mutation described by Osato et al11) showed cytoplasmic localization in 20% and 5% of observed cells, respectively (Figure 4A).Fig. 4.Download figureOpen in new tabDownload powerpointFig. 4. Subcellular localization of mutant RUNX1 proteins and colocalization with PEBP2β/CBFβ.(A) Subcellular localization of the indicated RUNX1 proteins was detected by immunofluorescence staining with anti-αB1. A schematic of the RUNX1 protein is shown with the Runt and transactivation domains indicated. The sequence of the NLS is indicated. (B) Double staining for mutant RUNX1 and PEBP2β/CBFβ reveals that the subunits are colocalized in the cytoplasm within speckled dotlike structures for the missense mutants and a diffuse staining pattern for the frameshift and nonsense mutations. All examples in this figure are in NIH3T3 cells. Original magnification, × 400.While the K83E and R139Q mutations are not within the known NLS, both mutant proteins showed reduced nuclear localization. K83E showed cytoplasmic localization in 30% of transfected cells, in contrast to the normal nuclear localization seen in K83N (a sporadic mutation; Figure 4A).11 This observation may suggest that the K83E mutation (K, positive, hydrophilic, C6; E, negative, hydrophilic, C5) results in greater loss of function than the K83N mutation (N, polar, hydrophobic, C4). The R139Q mutation is at a site involved in DNA binding18 and was expected to affect DNA binding rather than nuclear localization. However, cytoplasmic localization was observed in 40% of cells. The observed defect in nuclear localization in K83E and R139Q is consistent with earlier studies31 and may point to the existence of an additional unidentified N-terminal domain critical for nuclear localization.In contrast to RUNX1, PEBP2β/CBFβ is normally localized in the cytoplasm before heterodimerization32 and can enter the nucleus only with RUNX1.31 However, the regulation of the heterodimerization remains unknown, and it has been shown that both proteins may have different cellular localizations when transfected in the same cells.31 The missense mutants showed speckled dotlike distribution in the cytoplasm, markedly different from the diffuse pattern of the truncated or nonsense mutants. Double staining for the α and β subunits revealed that they colocalized within these speckled patterns (Figure 4B).Transactivation abilities of the FPD/AML RUNX1 mutantsThe transactivation potential of the mutant RUNX1 proteins was measured using a reporter construct based on the M-CSF receptor promoter as a myeloid-specific RUNX1-target.33 34Wild-type RUNX1 demonstrated more than 100-fold transactivation compared with the FPD/AML mutants, which showed no significant transactivation with or without PEBP2β/CBFβ (Figure5A). Despite the retention of DNA binding activity and C-terminal activation domains, R139Q failed to transactivate. Several mutants showed persistently lower luciferase activities than the mock-transfected plasmid, indicating that these mutants could hinder the function of endogenous RUNX1 in U937 cells. To allow measurement of inhibition of the wild-type transactivational activities caused by the mutant proteins, the reporter construct and a fixed amount of nonsaturating wild-type RUNX1 plasmid were cotransfected with varying amounts of FPD/AML mutant plasmids encoding mutant proteins with DNA and/or PEBP2β/CBFβ binding activity. PEBP2β/CBFβ-MYH11 and K83N repressed the M-CSF receptor promoter as previously reported.11 35 With the exception of R177X, all of the mutants showed varying degrees of interference with the wild-type protein function in all cell lines tested (U937, HL60, and Jurkat). Most notably, K83E and R174Q showed potent inhibition similar to that of PEBP2β/CBFβ-MYH11 (Figure 5B). The results of cotransfection reporter assays using frameshift mutants are not reproducible within or between cell lines.Fig. 5.Download figureOpen in new tabDownload powerpointFig. 5. Transactivation of the M-CSF receptor promoter by exogenously expressed RUNX1 proteins.(A) Cells were transfected with a luciferase reporter plasmid and the indicated RUNX1 expression constructs. Luciferase activities were measured and presented as the fold increase relative to the control transfected with the backbone expression vector. (B) The wild-type RUNX1 and missense RUNX1 mutants were coexpressed in varying doses as indicated. Luciferase activities are expressed as fold changes relative to the activity observed at the standard dose (0.3 μg) of the wild-type RUNX1 alone. (C) PEBP2β/CBFβ was transfected in varying doses with a repressive dose of wild-type and mutant RUNX1 proteins. In panels A-C, each value represents the mean of 3 separate experiments. The luciferase activity of the y-axis in panel C is shown as relative luciferase units (RLU). Deviations of the measurements are given by thin vertical bars. The chimeric protein PEBP2β/CBFβ-MYH11 and the sporadic mutation K83N were used as controls in each experiment. All examples in this figure are in U937 cells.Because all inhibitory mutants maintained the ability to heterodimerize and all colocalized with PEBP2β/CBFβ, sequestration of PEBP2β/CBFβ by mutant RUNX1 proteins may be the major inhibitory mechanism. To test this hypothesis, PEBP2β/CBFβ was cotransfected in increasing amounts together with inhibitory amounts of mutant RUNX1, resulting in the restoration of near- normal reporter gene activity (Figure 5C).DiscussionFive RUNX1 point mutations and a deletion of the entire RUNX1 gene have previously been described in FPD/AML. Here we report 3 new RUNX1 point mutations associated with the disease. Y260X, in pedigree 3, is at the beginning of the transactivating domain and removes a part of the negative regulatory region for DNA binding.20 31 It is the first described familial RUNX1 mutation outside the Runt domain. As such, the studies described in this paper are not appropriate to test the functional implications of this mutation. Functional analyses of 7 mutants (2 frameshift, 2 nonsense, and 3 missense mutations) were performed to investigate the mechanisms that contribute to FPD/AML, particularly the propensity to develop AML. The capacity to bind DNA was reduced or abolished in all mutant proteins as expected from the sites of substitutions in the Runt domain. The missense and nonsense mutant proteins (largely intact Runt domain) retained the capacity to heterodimerize with PEBP2β/CBFβ. The frameshift mutant proteins, which lack a substantial part of the Runt domain, failed to heterodimerize, as has been reported in a sporadic RUNX1 AML nonsense mutation S114X.11 These observations are consistent with the known crystal structure and predicted binding domain of mouse Runx1. The positions of the 3 missense mutations are not critical for the structural integrity of the dimerization site, whereas the frameshift mutant proteins are predicted to fold abnormally and lack Runt domain residues required for heterodimerization.18Do the mechanisms of pathogenesis of sporadic leukemias provide any clues to the mechanisms of pathogenesis in FPD/AML? In many sporadic hematologic malignancies, the same chromosomal rearrangements consistently appear, supporting the hypothesis that these events are a prerequisite for tumor induction. The somatic mutations acquired in leukemia by translocations and inversions are heterozygous in affected cells; normal copies of the translocated genes are still present. Consequently, the mechanism(s) of disease pathogenesis may include (1) a gain of function by chimeric fusion proteins, (2) haploinsufficiency, (3) a dominant-negative effect of the chimeric fusion proteins, and/or (4) a combination of these mechanisms. However, it is unlikely that the mutations described here have a gain-of-function activity.Haploinsufficiency of RUNX proteinsThe importance of gene dosage to the normal function of CBF transcriptional regulators is seen in the autosomal dominant human bone disorder, cleidocranial dysplasia, caused by mutations inRUNX2 (also called CBFα1).36 37Runx2+/− mice show skeletal defects similar to those in cleidocranial dysplasia.38 RUNX2 mutations may be heterozygous missense mutations, insertions, and deletions in either the Runt DNA binding domain or more C-terminal domains responsible for transactivation.39 RUNX2 point mutations are predicted to affect the folding and stability of RUNX2,18 resulting in haploinsufficiency of RUNX2 and defects in bone formation.36 40-43Complete deletion of RUNX1 results in haploinsufficiency in FPD/AML.10 The 2 FPD/AML splice site mutations resulting in frameshifts R135fsX177 and K90fsX101 cause loss of DNA binding, heterodimerization, nuclear localization, and transactivation functions and are also likely to act through simple haploinsufficiency.Dominant-negative effects of mutant RUNX proteins?Translocations involving RUNX1 produce chimeric proteins, most notably RUNX1/AML1-ETO(MTG8) in AML t(8;21) and TEL-RUNX1/AML1 in ALL t(12;21). These chimeric proteins both retain the entire Runt domain and have been shown to interfere with transactivation by the normal RUNX1 in a dominant-negative manner.44-46 RUNX1/AML1-ETO and related fusion proteins have been shown to form complexes with PEBP2β/CBFβ and other nuclear proteins more efficiently than wild-type RUNX1.47-49 Moreover, naturally occurring isoforms of RUNX1 proteins that contain only the Runt domain can also suppress transactivation by full-length RUNX1.50 Deletion of a negative regulatory domain for heterodimerization in the C-terminal region of full-length RUNX1 (amino acids 372-451) results in more efficient heterodimer formation.31 Thus, chimeric RUNX1 proteins resulting from translocations and the isoforms of RUNX1 without the transactivation domain50 may act in the same manner by dimerizing with PEBP2β/CBFβ more efficiently than the wild type.Cotransfection of equal amounts of wild-type and mutant plasmids closely mimics the in vivo situation of one normal and one mutant allele. All FPD/AML RUNX1 missense and nonsense mutants studied, except R177X, show a decrease in their transactivation capacities and an inhibitory effect on wild-type RUNX1 upon cotransfection and thus also seem to act as dominant-negative inhibitors. Both the missense and nonsense mutants still interact with PEBP2β/CBFβ, and both nonsense mutants studied here lack the negative regulatory domain for heterodimerization. R139Q and the 2 nonsense mutant proteins maintain some degree of DNA binding, although the DNA binding of the nonsense mutations may be irrelevant in vivo due to their cytoplasmic localization resulting from a direct disruption of the NLS. The missense mutants, while appropriately translocated to the nucleus most of the time, also show some cytoplasmic staining. The inhibitory nature of these mutants is likely to be due to competition with wild type for dimerization with PEBP2β/CBFβ and its sequestration. In the case of R174X, this must occur in the cytoplasm, whereas for the missense mutations it may occur in both the nucleus and cytoplasm. R177X, which differs from R174X by only 3 amino acids, did not show significant repression of the wild-type RUNX1 in the cotransfection assay and may be considered as haploinsufficient. Structural analysis of the C-terminal end of the Runt domain by nuclear magnetic resonance suggested that this is a region of conformational flexibility.51 R174X, which lacks 3 amino acids in this region, might show decreased flexibility and increased affinity for PEBP2β/CBFβ over R177X. Alternatively, the lack of inhibition by R177X could be due to technical difficulties inherent in the assay, as seen by the inconclusive results observed for the frameshift mutations.One of the notable features of the FPD/AML RUNX1 missense mutants studied here is the colocalization of the RUNX1 and PEBP2β/CBFβ in cytoplasmic speckles, where sequestration of PEBP2β/CBFβ could occur. There is a correlation between colocalization, PEBP2β/CBFβ interaction in vitro, and the level of the inhibitory effect. Because no such pattern was seen with the nonsense and frameshift mutants prematurely terminated within the Runt domain, the presence of the C-terminal region must be required for aggregation of RUNX1 into the speckled cytoplasmic patterns. This raises the possibility that the speckled structures could be the result of C-terminal–associating molecules, which could also be sequestered in the cytoplasm.It was recently shown that dimerization with PEBP2β/CBFβ protects RUNX1 from ubiquitin-proteasome–mediated degradation, and substitution of K83 to R was shown to increase the half-life of RUNX1 as lysine residues are ubiquitylated.52 Preferential binding of mutant RUNX1 proteins to PEBP2β/CBFβ may increase their half-lives. K83E may be the most potent nonchimeric mutant inhibitor of wild-type RUNX1 described so far because K83 is a residue important for ubiquitinylation.Mice heterozygous for the RUNX1/AML1-ETO or PEBP2β/CBFβ-MYH11 knocked-ins showed defects in definitive hematopoiesis similar to those observed in Runx1−/− or PEBP2β/CBFβ−/−mice.53 54 Thus, expression of strong dominant-negative inhibitors of RUNX1 seems to produce an embryonic lethal phenotype. The dominant transmission of RUNX1 mutations in FPD/AML implies that strong dominant-negative RUNX1 mutations would also be expected to be lethal. Another study recently showed dominant-negative mutations inCEBPA encoding the C/EBPα transcription factor in sporadic AML. However the dominant-negative effects of the predominantly frameshift mutations described in this study do not have an inhibitory effect by themselves but by increased formation of a secondary protein product by use of a downstream-initiating methionine.55Progression to leukemia in FPD/AMLHaploidy of RUNX1 is clearly sufficient for normal development but possibly insufficient for tumor suppression. Runx1−/−mice show a complete lack of definitive hematopoietic cells in the fetal liver, with death occurring from hemorrhages in the central nervous system at 12.5 days after coitus.56Runx1+/− mice demonstrate minimal changes in phenotype,56-58 although closer hematologic analysis has revealed a trend for bone marrow progenitor cells to have increased sensitivity to G-CSF, possibly reflecting a propensity to develop myelogenous leukemia.59The presence of biallelic RUNX1 mutations in sporadic leukemias may indicate that RUNX1 functions as a classical tumor suppressor gene.11 13 However, in other cases of sporadic leukemia only monoallelic RUNX1 mutations were described.11 13 Also, in FPD/AML leukemic patients—one each from the families with the complete RUNX1 deletion and R177X (annotated as R203X by Song et al10)—analysis of leukemic cells failed to detect RUNX1 mutations or deletion of the second RUNX1 allele.Two tumor suppressor genes (p53 and p27Kip1) have been shown to be haploinsufficient for tumor suppression in hemizygous mice where the potential complication of dominant-negative mutations can be excluded.60 61 A revision of the Knudson model has been proposed to accommodate haploinsufficiency. The normal level of biologic activity of a tumorigenic gene is tightly controlled, and an increase or decrease in this activity leads to increased tumor susceptibility. In a multiprotein complex or molecular cascade, hemizygous loss of each of 2 (or more) partners or molecules in the same pathway may be almost as tumorigenic as homozygous loss of any one partner.62While mutations in early-acting genes such as RUNX1 predispose to development of hematologic malignancies, the affected lineage and consequent type of malignancy may depend upon which genes subsequently sustain downstream “hits” from additional somatic mutation. For example, combined positivity for antigens CD34, C-KIT, and HLA-DR characterizes the CBF leukemias AML-M2 (RUNX1/AML1-ETO t(8;21)) and AML-M4Eo (PEBP2β/CBFβ-MYH11 inv(16)).63 C-KIT (CD117) is a transmembrane tyrosine kinase receptor for stem cell factor, which is required for normal hematopoiesis. Mutations in C-KIT have been described in various sporadic hematologic malignancies and other diseases.63-67 For example, mutations of residue D816 in exon 17 of C-KIT were detected in 6 of 15 patients with either t(8;21) AML-M2 or inv(16) AML-M4Eo.68It is difficult to make a robust correlation between the type of mutation and the proportion of patients who develop leukemia in FPD/AML families, because of the limited number of individuals identified and a lack of detailed clinical information. It would appear, however, that families with mutations acting simply via haploinsufficiency (deletions and frameshift mutations) show a smaller proportion of affected individuals who develop leukemia than do families transmitting mutations that may act in a dominant-negative fashion (Figure6). This is consistent with the hypothesis that a second mutation has to occur in RUNX1 or other genes to cause leukemia among individuals harboring an inheritedRUNX1 mutation, and these mutations are more likely to occur in the individuals with lower biologic activity of RUNX1. For example, in 2 of the largest FPD/AML pedigrees, a markedly higher rate of leukemia is seen in the family with strong predicted dominant-negative K83E mutation (57%) compared with the pedigree with a complete deletion of RUNX1 (24%).Fig. 6.Download figureOpen in new tabDownload powerpointFig. 6. A summary of the FPD/AML RUNX1 mutants and the studies presented in this paper.The FPD/AML RUNX1 mutants are listed in descending order of PEBP2/CBF activity. The Runt and transactivation domains are indicated on the mutant proteins as appropriate. Pedigrees 1 to 6 are from Song et al,10 and A1 and A2 are described in this paper. The results of the EMSA (DNA binding), affinity assay (PEBP2β/CBFβ subunit interaction), subcellular localization, and transactivation studies are summarized. The ratio of leukemic FPD individuals to FPD-affected individuals in each pedigree is indicated on the right. In the largest FPD/AML pedigrees, a markedly higher rate of leukemia is seen in the family with strong predicted dominant-negative K83E mutation (pedigree A1, dominant-negative, 57%) compared with the pedigree with a complete deletion of RUNX1 (pedigree 1, haploinsufficiency, 24%).Thus, we propose that the less functional PEBP/CBF transcriptional regulation complex present in a hematopoietic cell due to variable inhibitory effects of heterozygous mutations, or mutations of both alleles, the higher the propensity to develop leukemia. This mechanism is valid for FPD/AML or sporadic leukemia patients. Clearly, biallelic mutations would be more prone to leukemia development although additional genetic changes may still be required in other genes. Analyses of additional FPD/AML and sporadic leukemia cases with additional clinical and molecular data, including mutation analyses of genes coding for partners of PEBP/CBF or molecules in the same tumorigenic pathway, will help provide evidence for this hypothesis. The RUNX1/AML1 gene is the most frequent target for chromosomal translocation in leukemia. In addition, recent studies have demonstrated point mutations in the RUNX1 gene as another mode of genetic alteration in development of leukemia. Monoallelic germline mutations in RUNX1 result in familial platelet disorder predisposed to acute myelogenous leukemia (FPD/AML). Sporadic point mutations are frequently found in three leukemia entities: AML M0 subtype, MDS-AML, and secondary (therapy-related) MDS/AML. Therapy-related leukemias resulting from anticancer treatments are not uncommon, and the incidence of RUNX1 point mutations appears comparable to the incidence of the t(8;21) AML M2 subtype and the inv(16) AML M4Eo subtype. Half of the point mutations in M0 cases are biallelic, although the frequency varies with ethnicity. Most of the RUNX1 mutations are clustered in the Runt domain and result in defective DNA binding but active beta-subunit binding, which is consistent with three-dimensional structural findings and may explain the dominant inhibitory effects. Unlike the classical tumor suppressor genes requiring biallelic inactivation, haploinsufficient RUNX1 is apparently leukemogenic. However, RUNX1 abnormalities per se are insufficient to cause full-blown leukemia. Intensive investigation of cooperating genetic alterations should elucidate leukemic mechanisms.  Keywords: RUNX, AML1, PEBP2, point mutation, familial leukemia Top of page Introduction Since the discovery of the Philadelphia chromosome, t(9;22), in chronic myelogenous leukemia in 1960, leukemia researchers and physicians have paid much attention to the investigation of chromosomal translocations and resultant chimeric genes. It was also the case for RUNX1/AML1-related leukemia (also known as CBF leukemia, hereafter referred to as RUNX leukemia). Miyoshi et al. (1991) identified AML1 as a gene located on the breakpoint of chromosomal translocation t(8;21) in 1991. Since then, leukemia research on AML1/RUNX1 has been exclusively concentrated on investigating t(8;21) and resultant AML1(RUNX1)/ETO(MTG8); t(3;21), RUNX1/EVI1; t(12;21), TEL(ETV6)-RUNX1; and inv(16), PEBP2beta(CBFbeta)/MYH11. In 1999, Osato et al. (1999) and Song et al. (1999)reported a RUNX1 point mutation in sporadic and familial myeloid leukemia, respectively. Subsequent studies have identified point mutations in acute myeloid leukemia (AML), predominantly in the M0 subtype, in different ethnic groups (Preudhomme et al., 2000; Langabeer et al., 2002; Matsuno et al., 2003; Roumier et al., 2003a, 2003b; Silva et al., 2003). Until recently, mutations were believed to cluster within the Runt domain. However, mutations in the C-terminal region, outside the Runt domain, have also been identified, predominantly in MDS-AML (Harada et al., 2004). Finally, RUNX1 point mutations turned out to occur with comparable frequency to the first mode of RUNX1 alterations, namely, t(8;21), inv(16), and t(12;21), in secondary MDS/AML (Harada et al., 2003). Accordingly, the RUNX1 point mutation is fully recognized as the second mode of leukemogenesis in RUNX leukemia. In this review, I summarize the currently available cases of point mutations and discuss the leukemogenesis mediated by RUNX1+/- status.  Top of page Frequency and distribution of the point mutations The RUNX1 gene consists of 10 exons (exons 1–6, 7A, 7B, 7C, and 8) and two promoters followed by the distinct initiation codon in exon 1 and exon 3. The proximal promoter-driven transcript starts in exon 3 and encodes 453 amino acids (aa) (full length 453), whereas the distal promoter-driven transcript from exon 1 encodes 480 aa (full length 480). Full length 480 contains an additional 32 aa instead of 5 aa from the full length 453 in its N-terminal end. Thus, both full lengths share exons 3–6, 7B, and 8 and nearly the complete coding sequence. The Runt domain, a highly conserved 128 aa protein motif responsible for both DNA binding and heterodimerization with the beta-subunit PEBP2beta/CBFbeta spans aa 50–178 in full length 453 and is located on exons 3–5. All RUNX1 mutation-screening studies covered exons 3–5, and most included intron sequences flanking the exon. A few studies screened exons 1 and 2 as well, and half of the studies did not cover exons 6–8 encoding the C-terminal moiety where the transactivation domain spanning aa 291–371 is located. All types of human leukemia, except chronic lymphocytic leukemia (CLL), have been extensively investigated. In addition, a significant number of cell lines, including those established from solid tumors, as well as healthy volunteers were also included in the mutation screenings (Table 1) (Langabeer et al., 2002; Vegesna et al., 2002; Harada et al., 2003; Taketani et al., 2003). A total of 102 cases out of the 1786 tested had a RUNX1 alteration including a point mutation and gene deletion. Most of the nucleotide changes resulted in amino-acid changes with clear functional defects as shown in Figure 1. However, some mutations failed to show any apparent functional alterations, and the nucleotide change may have been constitutive or leukemia specific. Nucleotide changes that do not lead to amino-acid change (synonymous) may generate an abnormal splicing donor or acceptor site, resulting in a nonfunctional protein. These enigmatic cases are listed as 'variation' in Table 1. The numbers of mutations in Table 1 include variation cases. Most of the mutations are clustered within the Runt domain (Figure 1); N-terminal region, 9 (8.6%); Runt domain, 84 (80.8%); C-terminal region, 11 (10.5%). The total number of mutations (Table 1 and Figure 1) differs (104 vs 102) because the compiled mutants in Figure 1 include 11 cases from FPD/AML, which are not listed in Table 1. Conversely, gene deletion is not included in Figure 1, while a biallelic case in Table 1 provides two distinct mutations simultaneously.  Figure 1. Figure 1 - Unfortunately we are unable to provide accessible alternative text for this. If you require assistance to access this image, please contact help@nature.com or the author Distribution and functional consequences of RUNX1 gene mutations. The mutations (bold) and disease subtypes are compiled to the left of the corresponding amino acid indicated at the center. Amino acids in the Runt domain in dark green in the green bar representing exons are listed in a consecutive manner, while those outside the Runt domain are not. Missense, termination, and frameshift mutations are highlighted by yellow, dark gray, and gray, respectively. The functional consequences, DNA binding, beta-subunit binding, and dominant negative effects are listed on the right. + indicates function retention. Normal and hypernormal functions are in pink and red, respectively. Dominant negative effects are shown in light blue or dark blue in the right-end column. The strong cases are in dark blue  Full figure and legend (235K)  Table 1 - Frequency of mutations in the RUNX1/AML1 gene in various cancer patients and healthy volunteers. Table 1 - Frequency of mutations in the RUNX1//AML1 gene in various cancer patients and healthy volunteers - Unfortunately we are unable to provide accessible alternative text for this. If you require assistance to access this image, please contact help@nature.com or the author Full table  Top of page Functional consequence, haploinsufficiency Entire gene deletions and early truncated-type mutations (frameshift or nonsense mutations) were found with significant frequency. Most of the missense mutations also lost their DNA binding and transcriptional activities (Figure 1, right-middle column). Since the majority of cases are heterozygous, haploinsufficiency appears to be a basis for pathogenesis. This notion is most strongly supported by the whole gene deletion in FPD/AML. RUNX1+/- status is likely to provide the cells with a growth advantage to overcome 'selective pressure' in the subject. However, if this were the only mechanism, mutations would be distributed throughout the gene without 'hot spots'. Therefore, clustering in the Runt domain suggests that a mechanism other than genuine haploinsufficiency is important for leukemogenesis.  Top of page Dominant negative effect by the retained bold italic beta-binding activity In the Runt domain, eight regions or 'hot spots' were affected more than twice (Figure 1). Two different mechanisms are probably at least partly responsible. First, the primary sequence of particular sites seems to be preferably targeted by the mutation mechanism. R139, R174, and R177 are encoded by triplets containing CpG dinucleotides, which are extremely prone to transition-type mutations by a mechanism facilitated by methylation of the cytidine residue (Rodenhiser et al., 1997; Yoshida et al., 2003). Second, certain mutation sites are considered to provide cells a stronger growth advantage under 'selective pressure'. Mapping of the missense mutations strongly supports this notion. Three regions recurrently affected by missense mutations exclusively correspond to three loop-containing regions responsible for DNA binding: betaP1–loop(betaP1–betaB), betaE'–loop(betaE'–betaF), and betaP2–loop(betaP2–C-terminus) (Figure 2) (Nagata et al., 1999; Osato et al., 2001; Tahirov et al., 2001). Consequently, these mutants are defective only in DNA binding, and not in packing or heterodimerization (Figure 1), which may explain the dominant negative effects of the RUNX1 mutants. In cotransfection assays, missense and some nonsense mutants showed inhibitory effects towards transactivation mediated by wild-type RUNX1. These mutants bound to PEBP2beta/CBFbeta more efficiently than wild-type RUNX1 (Imai et al., 2000; Michaud et al., 2002). In addition, PEBP2beta protects RUNX1 from ubiquitin–proteasome-mediated degradation (Huang et al., 2001). Thus, preferential binding of mutant RUNX1 proteins to PEBP2beta may in turn increase protein half-life and hence further augment the dominant negative effects. In the right-end column of Figure 1, a general correlation can be seen between the retained beta-binding activity and the inhibitory potential of each mutant. This correlation is more clearly indicated by the comparison of the distribution of missense mutations between RUNX1 and RUNX2 (Figure 2). Germline mutation of RUNX2 causes the bone disease cleidocranial dysplasia (CCD) (Mundlos et al., 1997). The missense mutations of RUNX2 distributed throughout the Runt domain affected the overall folding architecture in the cases marked by asterisks in Figure 2, resulting in impairment of both DNA- binding and heterodimerization activity (packing defect). The mutations underlined in Figure 2 showed defects in beta binding alone. In clear contrast, no such mutations resulting in defective packing or beta binding have been found in RUNX1 so far. (Some reported cases are mapped to the residues responsible for packing (suspected cases), but functional analyses have not yet been performed. No suspected case with defect in beta binding alone has been reported.) Conversely, mutations mapping to the first DNA interacting region, betaP1-loop (betaP1-betaB), are seen in RUNX1 but not in RUNX2 (Figure 2) (Yoshida et al., 2003). These RUNX1 mutants, R80C, K83N, and K83E showed strong affinity for the beta-subunit and hence a strong dominant negative effect, suggesting that haploinsufficiency is a dominant mechanism in RUNX2 mutants, whereas a dominant negative effect is important in RUNX1 mutants. Sequestration of the beta-subunit may be one important mechanism of the dominant negative effect caused by the RUNX1 mutants.  Figure 2. Figure 2 - Unfortunately we are unable to provide accessible alternative text for this. If you require assistance to access this image, please contact help@nature.com or the author Structural mappings of the missense mutations detected in leukemia or the bone disease CCD. The RUNX1 mutants in leukemia (rectangular outline, orange) are mapped exclusively to the three regions involved in DNA binding, whereas the RUNX2 mutations in CCD (blue) are distributed all over the Runt domain except for the loop (betaP1-betaF). Mutations associated with packing (asterisk) and beta-binding (underline) defects are found only in CCD. Adapted from Nagata et al. (1999)  Full figure and legend (307K)  Top of page The lower the RUNX1 activity, the higher the leukemogenicity How does the dominant negative effect mentioned above relate to leukemogenesis? Although the limited number of individuals and minimal clinical information evaluated prohibit a robust conclusion, families with mutations acting simply via haploinsufficiency have a lower incidence of leukemia than families with mutations acting in a dominant-negative fashion. In two of the largest FPD/AML pedigrees, leukemia occurred at a markedly higher rate in the family with the strong dominant negative K83E mutation (57%) compared to the pedigree with a complete deletion of RUNX1 (24%) (Table 2) (Song et al., 1999; Michaud et al., 2002). Thus, low RUNX1 activity appears to correlate with high leukemogenicity. The hypothesis may be expanded to some extent to leukemogenesis induced by chimeric genes. The majority of current findings indicate that a major function of chimeric genes is a transdominant inhibition of wild-type RUNX1, resulting in severely decreased RUNX1 activity in affected cells. Currently, more than 10 partner genes fused with RUNX1 have been identified in chromosomal translocations. Although each chimeric gene may have its own leukemogenic mechanism, RUNX1 insufficiency may be a common underlying mechanism in RUNX leukemias.  Table 2 - RUNX1 mutations in familial leukemia: FPD/AML. Table 2 - RUNX1 mutations in familial leukemia: FPD//AML - Unfortunately we are unable to provide accessible alternative text for this. If you require assistance to access this image, please contact help@nature.com or the author Full table  Acquired trisomy 21 underscores this notion. RUNX1+/- mutant alleles appear to be duplicated frequently. This finding may also lend supporting evidence to the hypothesis that reduced RUNX1 activity increases leukemogenic status. This argument will be discussed later.  Top of page Mutation status – disease phenotype in sporadic leukemias Biallelic mutation and AML M0 subtype RUNX1 point mutations were most frequently found in the AML M0 subtype (Table 1). In addition, 22 of the 39 (56.4%) M0 cases showed the biallelic type of mutation (Table 3). Conversely, only two of the 80 RUNX1 mutation cases in other leukemia subtypes were the biallelic type. Therefore, it is clear that RUNX1 point mutations of the biallelic type are tightly associated with the AML M0 subtype. Mice heterozygous for the RUNX1-MTG8 or PEBP2beta(CBFbeta)-MYH11 chimeric genes showed defects in definitive hematopoiesis similar to Runx1-/- mice, suggesting that the chimeric genes can act as strong transdominant inhibitors of the remaining normal Runx1 allele (Castilla et al., 1996; Okuda et al., 1996; Yergeau et al., 1997). Therefore, the leukemogenic potential of biallelic RUNX1 mutants is considered equivalent to those of chimeric genes. On the other hand, t(8;21), inv(16), and biallelic point mutations are related to the distinct M2, M4Eo, and M0 subtypes of myeloid leukemias, respectively. The different disease phenotypes are quite interesting. The contribution of each partner gene, thought to be considerable, may also be explained by the different residual activities of RUNX1 in the affected adult hematopoietic cells. Conditional Runx1 knockout mice showed apparent defects in hematopoiesis (Ichikawa et al., 2004), whereas hematopoiesis in conditional heterozygous RUNX1-ETO knockin mice was nearly normal (Higuchi et al., 2002), suggesting that Runx1-/- induces more severe effects than the RUNX1-ETO chimeric gene in adult hematopoiesis. The M0 subtype shows minimally differentiated morphology, while the M2 subtype is characteristically well differentiated. Therefore, the differing residual activities of RUNX1 seem to be important. In addition, influence on the activities of other RUNX family genes must be considered because RUNX1-MTG8 or PEBP2beta (CBFbeta)-MYH11 chimeric genes could inhibit RUNX2 and RUNX3 as well, while RUNX1-/- status is a defect in RUNX1 alone. Careful study will resolve this intriguing issue. Table 3 - RUNX1 mutations in AML M0 subtype. Table 3 - RUNX1 mutations in AML M0 subtype - Unfortunately we are unable to provide accessible alternative text for this. If you require assistance to access this image, please contact help@nature.com or the author Full table  Of note, the biallelic-type mutation is strictly confined to the status with two copies of RUNX1. Biallelic mutation in trisomy 21 is not associated with the AML M0 subtype, but is associated with myeloid malignancies other than M0. This phenotypic difference will be discussed later.  Entire distribution including the C-terminal moiety and MDS-AML/secondary leukemia The RUNX1 point mutations are also frequently found in MDS and subsequent overt leukemia (referred to in this review as MDS-AML) (Tables 1 and 4). The mutations are characteristically distributed, as they were also detected in the C-terminal region which is rarely targeted in other types of leukemias (Harada et al., 2004). Since this distribution was only recently identified, C-terminal mutations were overlooked in a number of previous studies. Half of the studies did not investigate exons 7B and 8 in the C-terminal region. With regard to MDS-AML, the incidence covering both exons 3–6 and exons 3–8 were evaluated less frequently than those of exons 3–8 alone (Table 4). Thus, C-terminal mutations may be underestimated in MDS-AML. However, C-terminal mutations still seem rare in AML, since C-terminal mutations were not identified in the study with a relatively large number of cases. Therefore, RUNX1 point mutations including the C-terminal moiety appear to be found predominantly in MDS-AML. Table 4 - RUNX1 mutations in MDS. Table 4 - RUNX1 mutations in MDS - Unfortunately we are unable to provide accessible alternative text for this. If you require assistance to access this image, please contact help@nature.com or the author Full table  Harada et al. (2003) from Hiroshima, one of the two cities suffered from atomic bomb, reported two further implications of RUNX1 mutations in secondary MDS or AML (referred to in this review as MDS/AML), including therapy-related and atomic bomb-related MDS/AML. Firstly, the relationship to radiation seems important in terms of the social issue. In addition to the victims in the above two cities, an estimated 220 000 US soldiers and a significant number of local residents and passengers have been irradiated in the aboveground nuclear weapon test sites at Nevada, Bikini atoll, and others in the late 1940s to 1950s. Many of these people are thought to have succumbed to MDS/AML caused by RUNX1 point mutation. Secondly, the involvement in therapy-related MDS/AML seems to have more general impact. With the improvement of treatments for primary cancer, the incidence of therapy-related MDS/AML continues to increase. Therapy-related MDS/AML accounts for roughly 10–20% of all new cases of MDS and AML in standard hospitals. Therefore, the incidence of secondary MDS/AML with RUNX1 mutation is comparable to those of t(8;21) AML M2 subtype and inv(16) AML M4Eo subtype (Table 5). Considering its poor prognosis, clinical implication of RUNX1 point mutation in secondary MDS/AML would be rather more significant than we expected.  Table 5 - Estimated frequency of leukemia with RUNX1 point mutation. Table 5 - Estimated frequency of leukemia with RUNX1 point mutation - Unfortunately we are unable to provide accessible alternative text for this. If you require assistance to access this image, please contact help@nature.com or the author Full table  Leukemic incidence rates were based on several textbooks and public databases from CDC, WHO, and National Cancer Institute (NIH). CLL accounts for 10–30%, which may explain the relatively low incidences of t(8;21), inv(16), and t(12;21).  Acquired (not congenital) trisomy 21 and non-MO myeloid malignancy Preudhomme et al. (2000) first reported the relationship between trisomy 21 and RUNX1 point mutation (Table 6). Sporadic cases of myeloid but not lymphoid malignancy with trisomy 21 were associated with a high frequency of RUNX1 point mutations. Taketani et al. (2002) subsequently surveyed RUNX1 mutation in congenital cases of trisomy 21, that is, the Down syndrome-related hematopoietic diseases. However, point mutation in congenital cases appears to be rare except for the enigmatic H58N variation, which has nearly normal function. Allelic analysis of sporadic cases with acquired trisomy 21 showed the following combination: 2–3 mutant vs 0–1 wild type. The co-occurrence of mutation and trisomy 21 should be associated with the allelic combination with one mutant and two WT combination. However, this combination has never been found. These findings suggest that trisomy 21 increases the copy number of the mutant allele, which already exists in the status of two copies of RUNX1. In other words, trisomy 21 is thought to be a secondary change to RUNX1+/- status. Trisomy 21 as a second hit will be discussed later. Table 6 - Trisomy 21 and RUNX1 mutation. Table 6 - Trisomy 21 and RUNX1 mutation - Unfortunately we are unable to provide accessible alternative text for this. If you require assistance to access this image, please contact help@nature.com or the author Full table  As mentioned earlier, biallelic RUNX1 mutations are tightly liked to the AML M0 subtype. However, interestingly, acquired +21 carrying a RUNX1 point mutation has never been observed in the AML M0 subtype, even in cases with biallelic mutations (Table 6). This 'discrepancy' is not explained by the differing residual activities of RUNX1, as half of the M0 cases with RUNX1 mutation are monoallelic. Leukemic phenotype may be determined by an as yet undetermined mechanism.  Top of page Familial leukemia, FPD/AML Heterozygous germline mutation in the RUNX1 gene causes familial leukemia, familial platelet disorder with predisposition to acute myelogenous leukemia (FPD/AML). A total of 12 pedigrees have been identified so far, mainly in individuals of European descent (Table 2). FPD alone, before the onset of AML, is not fatal but significantly inhibits blood clotting, which could be life threatening after surgery, injury, dental treatment, or childbirth. The incidence of leukemia among affected individuals varies from 20 to 50% (average 35%), and is highest in familial leukemia syndromes including Fanconi anemia, Bloom syndrome, and Kostman syndrome. The affected subjects seem to develop myeloid malignancies throughout their life span, but not later in life as described in some previous reports. Leukemia developed before the age of 10 years in four of 11 cases. These features of FPD/AML were compared with a similar dominant hereditary disease, Huntington disease (HD). The subjects of HD are healthy until disease onset at 30–50 years of age and die 10–15 years later. In addition to the low penetrance and/or low severity of symptoms, late onset is a key factor for hereditary disease, since patients often have children before disease symptoms appear. On the other hands, FPD/AML seems detrimental to the subjects in any factors of hereditary disease. How can such a pedigree full of drawbacks exist? FPD/AML may persist as a disease due to the easy-mutability of RUNX1. As discussed before, RUNX1 indeed contains easy-mutable primary sequences: triplets containing CpG dinucleotides extremely prone to transition-type mutations facilitated by methylation of the cytidine residue (Rodenhiser et al., 1997; Yoshida et al., 2003). This mechanism could work particularly well in germ cells. The FPD/AML pedigree may readily disappear in the human population, while a 'de novo' pedigree could be continually generated with comparable frequency. Consistent with this argument, of CCD cases caused by RUNX2 mutation, approximately half are the 'de novo' and not the familial type (Zhou et al., 1999). Irradiation readily generates CCD-like phenotypes in mice due to Runx2 alterations. RUNX2 shares the above noted easy-mutable sequences. In the case of RUNX1, healthy British subjects have two kinds of variations: L29S and S21syn with 5 and 3% frequency, respectively (Langabeer et al., 2002). Japanese subjects also have several recurrent enigmatic variations: G42R, I87syn, and H58N. Interestingly, G42R was identified in both leukemia patients and healthy volunteers (Harada et al., 2003; Taketani et al., 2003). These variations, probably including polymorphisms, might reflect the above noted easy-mutability of RUNX1.  As mentioned above, FPD/AML is extremely rare worldwide. Therefore, this clinical entity had been overlooked by physicians until recently. Bone marrow transplantaion was carried out from an affected sibling with mild FPD symptoms to a patient suffering from AML (Buijs et al., 2001). The recipient succumbed to leukemia again, clearly from the hematopoietic cells derived from the donor.  Top of page Genetic alterations cooperating with RUNX1+/- status As mentioned earlier, RUNX1-/- status is frequently found in the AML M0 subtype. Thus, RUNX1 may appear to act as a classical tumor suppressor gene, requiring inactivation of two alleles according to Knudson's two hits theory. However, biallelic inactivation is not required in all cases of leukemogenesis; in fact, the overall frequency of biallelic cases is relatively low (27 of 102 cases, or 26%). Biallelic cases of FPD/AML have never been reported. Therefore, RUNX1+/- per se appears to be leukemogenic. The dominant negative effect associated with missense mutations might play a role in leukemogenesis, but not to the same extent as gene inactivation. In any case, heterozygous mutation appears to be a step towards leukemogenesis. Therefore, a mutation in the wild-type RUNX1 on the remaining allele is considered to be a second hit in addition to RUNX1+/- status. Furthermore, acquired but not congenital trisomy 21 is also thought to be a second hit. As discussed earlier, the link between +21 and RUNX1 mutation is interpreted as follows; a mutation takes place in the two copy status and the mutant allele is duplicated in accordance with +21. In both RUNX1-/- and +21 cases, acquirement of another mutant allele is therefore thought to be an additional genetic alteration cooperating with RUNX1+/- status (Figure 3).  Figure 3. Figure 3 - Unfortunately we are unable to provide accessible alternative text for this. If you require assistance to access this image, please contact help@nature.com or the author Leukemogenesis from Runx1+/-. Biallelic mutations of RUNX1 (RUNX1-/-) are tightly liked to the AML M0 subtype. However, acquired +21 carrying a RUNX1 point mutation (RUNX1+/-/-) has never been observed in M0, despite cases with biallelic mutations. Mutation likely takes place in the two copy status (RUNX1+/-) and the mutant allele is duplicated in accordance with +21, resulting in myeloid malignancies other than M0. FLT-3 mutations were frequently found in M0 cases with RUNX1 point mutations. These genetic alterations are mapped based on such observations  Full figure and legend (55K)  In line with +21, cytogenetics helps to identify second hits. Patients with RUNX1 point mutations show the following concurrent abnormalities; 12 cases showed -7; 6, +8; 5,+13 (Tables 2, 3 and 4). Loss of chromosome 7 is suspected to be a strong predisposing factor for the second hit in RUNX1+/-.  FLT-3 mutations were frequently observed even in monoallelic RUNX1 mutations in M0 patients (Table 3) (Matsuno et al., 2003; Roumier et al., 2003a, 2003b). Hence, the FLT-3 mutation is also a cooperating genetic alteration (Figure 3). FLT-3 mutation results in a constitutively active form known to stimulate cell proliferation. Therefore, differentiation blockade by RUNX1 alteration and growth stimulation by FLT3 mutation would synergistically contribute to a substantial fraction of AML M0 subtype cases. Interesting enough, FLT-3 mutations are known to be rare in the other RUNX leukemias, t(8;21) and inv(16). Certain RUNX leukemias seem to cooperate with distinct second hits. Elucidation of this mechanism might shed light on development of RUNX leukemias.  Top of page Current problems Region for mutation screening As discussed previously, half of the screening studies did not cover C-terminal exons 7B and 8 and therefore overlooked C-terminal mutations in MDS-AML. C-terminal screening is unlikely to reveal information about AML but is recommended. Likewise, exons 1 and 2 might be affected in particular types of leukemia. Theoretically, the promoter and untranslated regions could also be targeted. Variations Significant numbers of variations are reported, as shown in Table 1 and Figure 1. Functional analyses have not yet been performed in all the cases. Each variation must be studied to determine if it is a mutation or a polymorphism. Analyses of polymorphisms might help to characterize susceptibility to leukemia. Dominant negative effect by C-terminal mutants in MDS-AML In the reporter assay, all C-terminal mutants found in MDS-AML showed inhibitory effects in a transdominant manner, like the missense mutants in the Runt domain (Harada et al., 2004). However, similar C-terminal RUNX2 mutations in CCD patients retain partial transactivation activity and show much milder phenotypes compared to the standard CCD phenotypes, which are caused by simple gene deletions (Yoshida et al., 2002). This discrepancy may be due to the distinct cell context or promoter used for the assay. However, a correlation with MDS but not AML might indicate that C-terminal mutants have milder inhibitory effects than Runt domain mutants. The biological assay, but not the reporter assay, may address this issue. Cooperative genetic alterations FLT-3 mutation and +21 are thought to be second hits in MDS/AML with RUNX1 mutations. High frequency of chromosome 7 loss suggests inactivation of the unknown gene on chromosome 7 plays a synergistic role with RUNX1 mutations. However, the overall frequency of these mutations does not account for all cases. Furthermore, to induce a leukemia, three to five genetic alterations are considered to be required based on current evidence. Therefore, a number of genetic alterations must be identified to understand the whole leukemogenic mechanism of RUNX leukemia. My laboratory recently established a mouse system that appears to be quite useful. Myeloid leukemia-prone mice mimicking FPD/AML were generated by backcrossing Runx1+/- onto the BXH2 strain, in which retroviral insertional mutagenesis occurs spontaneously with the eventual development of myeloid leukemia in over 90% of the cases (Li et al., 1999). The proviral integration sites in the leukemias provide powerful genetic tags for disease gene identification. Therefore, collaborating oncogenes with Runx1+/- would be readily detected. Loss-of-function of RUNX1 is widely believed to be the common underlying mechanism of RUNX leukemia. RUNX1+/- status is considered to be the minimum alteration required for several forms of RUNX leukemias. Therefore, the mouse model for FPD/AML mentioned above should be useful for searching for cooperative genetic alterations in the other RUNX leukemias, t(8;21) and inv(16). These genetic alterations identified by the retroviral tagging system might explain the leukemogenic mechanisms not only of RUNX1 point mutations but also of other RUNX leukemias. Top of page Future directions Why is RUNX1+/- status leukemogenic? This question seems to be the most fundamental question not only for RUNX1 point mutation but also all RUNX leukemias. Determining the means by which RUNX1+/- is leukemogenic may not be possible by the currently used approaches to evaluate differentiation, proliferation, and apoptosis at the cellular level and transcriptional control at the molecular level. A novel approach is warranted. For example, alteration of 'stemness' should be investigated in RUNX1+/- status. Stemness could provide cells with a time window sufficient for sequential genetic alterations. Intrinsic molecular functions relevant to leukemogenesis, other than transcriptional control, might be identified by novel approaches.\""
      ]
     },
     "execution_count": 99,
     "metadata": {},
     "output_type": "execute_result"
    }
   ],
   "source": [
    "tn_text.Text[3320]"
   ]
  },
  {
   "cell_type": "code",
   "execution_count": null,
   "id": "653d42f6-681a-4b46-88fe-31f6dc0820af",
   "metadata": {},
   "outputs": [],
   "source": []
  }
 ],
 "metadata": {
  "kernelspec": {
   "display_name": "Python 3 (ipykernel)",
   "language": "python",
   "name": "python3"
  },
  "language_info": {
   "codemirror_mode": {
    "name": "ipython",
    "version": 3
   },
   "file_extension": ".py",
   "mimetype": "text/x-python",
   "name": "python",
   "nbconvert_exporter": "python",
   "pygments_lexer": "ipython3",
   "version": "3.9.7"
  }
 },
 "nbformat": 4,
 "nbformat_minor": 5
}
